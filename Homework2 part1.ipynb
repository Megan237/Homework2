{
 "cells": [
  {
   "cell_type": "code",
   "execution_count": 61,
   "metadata": {
    "collapsed": true
   },
   "outputs": [
    {
     "name": "stdout",
     "output_type": "stream",
     "text": [
      "                Driver     Nationality  Race_Entries  Decade\n",
      "0          Carlo Abate           Italy             3    1960\n",
      "1     George Abecassis  United Kingdom             2    1950\n",
      "2        Kenny Acheson  United Kingdom            10    1980\n",
      "3    Andrea de Adamich           Italy            36    1970\n",
      "4       Philippe Adams         Belgium             2    1990\n",
      "..                 ...             ...           ...     ...\n",
      "95          Jo Bonnier          Sweden           108    1960\n",
      "96      Roberto Bonomi       Argentina             1    1960\n",
      "97  Juan Manuel Bordeu       Argentina             1    1960\n",
      "98        Slim Borgudd          Sweden            15    1980\n",
      "99          Luki Botha    South Africa             1    1970\n",
      "\n",
      "[100 rows x 4 columns]\n"
     ]
    }
   ],
   "source": [
    "import pandas as pandas\n",
    "\n",
    "data = pandas.read_csv(\"cs421_hw2_complete_Stinefield_Johnston.csv\");\n",
    "print(data)"
   ]
  },
  {
   "cell_type": "code",
   "execution_count": 62,
   "outputs": [],
   "source": [
    "def findDecade(userInput):\n",
    "    result = 0\n",
    "    rowArray = []\n",
    "    for x in range(0, data.size):\n",
    "        check = data.Decade.get(x)\n",
    "        if check == userInput:\n",
    "            result +=1\n",
    "            rowArray.append(x+1)\n",
    "    matches = str(rowArray).replace(\"[\", \"\").replace(\"]\", \"\")\n",
    "    return \"There is/are \" + str(result) + \" matches is rows \"+matches+ \" for the year \"+ str(userInput)"
   ],
   "metadata": {
    "collapsed": false
   }
  },
  {
   "cell_type": "code",
   "execution_count": 63,
   "outputs": [],
   "source": [
    "def findDriver(userInput):\n",
    "    result = 0\n",
    "    rowArray = []\n",
    "    for x in range(0, data.size):\n",
    "        check = data.Driver.get(x)\n",
    "        if check == userInput:\n",
    "            result +=1\n",
    "            rowArray.append(x+1)\n",
    "    matches = str(rowArray).replace(\"[\", \"\").replace(\"]\", \"\")\n",
    "    return \"There is/are \" + str(result) + \" matches is rows \"+matches+ \" for the driver \"+ str(userInput)"
   ],
   "metadata": {
    "collapsed": false
   }
  },
  {
   "cell_type": "code",
   "execution_count": 64,
   "outputs": [],
   "source": [
    "def findNationality(userInput):\n",
    "    result = 0\n",
    "    rowArray = []\n",
    "    for x in range(0, data.size):\n",
    "        check = data.Nationality.get(x)\n",
    "        if check == userInput:\n",
    "            result +=1\n",
    "            rowArray.append(x+1)\n",
    "    matches = str(rowArray).replace(\"[\", \"\").replace(\"]\", \"\")\n",
    "    return \"There is/are \" + str(result) + \" matches is rows \"+matches+ \" for the Nationality \"+ str(userInput)"
   ],
   "metadata": {
    "collapsed": false
   }
  },
  {
   "cell_type": "code",
   "execution_count": 65,
   "outputs": [],
   "source": [
    "def findRaceEntries(userInput):\n",
    "    result = 0\n",
    "    rowArray = []\n",
    "    for x in range(0, data.size):\n",
    "        check = data.Race_Entries.get(x)\n",
    "        if check == userInput:\n",
    "            result +=1\n",
    "            rowArray.append(x+1)\n",
    "    matches = str(rowArray).replace(\"[\", \"\").replace(\"]\", \"\")\n",
    "    return \"There is/are \" + str(result) + \" matches is rows \"+matches+ \" for the race entry \"+ str(userInput)"
   ],
   "metadata": {
    "collapsed": false
   }
  },
  {
   "cell_type": "code",
   "execution_count": 66,
   "outputs": [],
   "source": [
    "column = input(\"Enter the column name you want to search (Driver, Nationality, Race_Entries, or Decade)\")\n",
    "if column != \"Driver\" and column != \"Nationality\" and column != \"Race_Entries\" and column != \"Decade\":\n",
    "    print(\"Invalid Input\")"
   ],
   "metadata": {
    "collapsed": false
   }
  },
  {
   "cell_type": "code",
   "execution_count": 67,
   "outputs": [],
   "source": [
    "entry = input(\"Enter the word/number you are searching for\")\n"
   ],
   "metadata": {
    "collapsed": false
   }
  },
  {
   "cell_type": "code",
   "execution_count": 68,
   "outputs": [
    {
     "name": "stdout",
     "output_type": "stream",
     "text": [
      "There is/are 11 matches is rows 4, 9, 22, 41, 53, 65, 68, 69, 78, 94, 100 for the year 1970\n"
     ]
    }
   ],
   "source": [
    "if column == \"Driver\":\n",
    "    print(findDriver(str(entry)))\n",
    "elif column == \"Nationality\":\n",
    "    print(findNationality(str(entry)))\n",
    "elif column == \"Race_Entries\":\n",
    "    print(findRaceEntries(int(entry)))\n",
    "elif column == \"Decade\":\n",
    "    print(findDecade(int(entry)))"
   ],
   "metadata": {
    "collapsed": false
   }
  }
 ],
 "metadata": {
  "kernelspec": {
   "display_name": "Python 3",
   "language": "python",
   "name": "python3"
  },
  "language_info": {
   "codemirror_mode": {
    "name": "ipython",
    "version": 2
   },
   "file_extension": ".py",
   "mimetype": "text/x-python",
   "name": "python",
   "nbconvert_exporter": "python",
   "pygments_lexer": "ipython2",
   "version": "2.7.6"
  }
 },
 "nbformat": 4,
 "nbformat_minor": 0
}
