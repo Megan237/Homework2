{
 "cells": [
  {
   "cell_type": "markdown",
   "source": [
    "Part 1"
   ],
   "metadata": {
    "collapsed": false
   }
  },
  {
   "cell_type": "code",
   "execution_count": 109,
   "outputs": [],
   "source": [
    "import pandas as pandas\n",
    "\n",
    "data = pandas.read_csv(\"cs421_hw2_complete_Stinefield_Johnston.csv\");"
   ],
   "metadata": {
    "collapsed": false
   }
  },
  {
   "cell_type": "code",
   "execution_count": 110,
   "metadata": {
    "collapsed": false,
    "jupyter": {
     "outputs_hidden": false
    }
   },
   "outputs": [],
   "source": [
    "def findDecade(userInput):\n",
    "    result = 0\n",
    "    rowArray = []\n",
    "    for x in range(0, data.size):\n",
    "        check = data.Decade.get(x)\n",
    "        if check == userInput:\n",
    "            result +=1\n",
    "            rowArray.append(x+1)\n",
    "    matches = str(rowArray).replace(\"[\", \"\").replace(\"]\", \"\")\n",
    "    return \"There is/are \" + str(result) + \" matches is rows \"+matches+ \" for the year \"+ str(userInput)"
   ]
  },
  {
   "cell_type": "code",
   "execution_count": 111,
   "metadata": {
    "collapsed": false,
    "jupyter": {
     "outputs_hidden": false
    }
   },
   "outputs": [],
   "source": [
    "def findDriver(userInput):\n",
    "    result = 0\n",
    "    rowArray = []\n",
    "    for x in range(0, data.size):\n",
    "        check = data.Driver.get(x)\n",
    "        if check == userInput:\n",
    "            result +=1\n",
    "            rowArray.append(x+1)\n",
    "    matches = str(rowArray).replace(\"[\", \"\").replace(\"]\", \"\")\n",
    "    return \"There is/are \" + str(result) + \" matches is rows \"+matches+ \" for the driver \"+ str(userInput)"
   ]
  },
  {
   "cell_type": "code",
   "execution_count": 112,
   "metadata": {
    "collapsed": false,
    "jupyter": {
     "outputs_hidden": false
    }
   },
   "outputs": [],
   "source": [
    "def findNationality(userInput):\n",
    "    result = 0\n",
    "    rowArray = []\n",
    "    for x in range(0, data.size):\n",
    "        check = data.Nationality.get(x)\n",
    "        if check == userInput:\n",
    "            result +=1\n",
    "            rowArray.append(x+1)\n",
    "    matches = str(rowArray).replace(\"[\", \"\").replace(\"]\", \"\")\n",
    "    return \"There is/are \" + str(result) + \" matches is rows \"+matches+ \" for the Nationality \"+ str(userInput)"
   ]
  },
  {
   "cell_type": "code",
   "execution_count": 113,
   "metadata": {
    "collapsed": false,
    "jupyter": {
     "outputs_hidden": false
    }
   },
   "outputs": [],
   "source": [
    "def findRaceEntries(userInput):\n",
    "    result = 0\n",
    "    rowArray = []\n",
    "    for x in range(0, data.size):\n",
    "        check = data.Race_Entries.get(x)\n",
    "        if check == userInput:\n",
    "            result +=1\n",
    "            rowArray.append(x+1)\n",
    "    matches = str(rowArray).replace(\"[\", \"\").replace(\"]\", \"\")\n",
    "    return \"There is/are \" + str(result) + \" matches is rows \"+matches+ \" for the race entry \"+ str(userInput)"
   ]
  },
  {
   "cell_type": "code",
   "execution_count": 114,
   "metadata": {
    "collapsed": false,
    "jupyter": {
     "outputs_hidden": false
    }
   },
   "outputs": [],
   "source": [
    "column = input(\"Enter the column name you want to search (Driver, Nationality, Race_Entries, or Decade)\")\n",
    "if column != \"Driver\" and column != \"Nationality\" and column != \"Race_Entries\" and column != \"Decade\":\n",
    "    print(\"Invalid Input\")"
   ]
  },
  {
   "cell_type": "code",
   "execution_count": 115,
   "metadata": {
    "collapsed": false,
    "jupyter": {
     "outputs_hidden": false
    }
   },
   "outputs": [],
   "source": [
    "entry = input(\"Enter the word/number you are searching for\")\n"
   ]
  },
  {
   "cell_type": "code",
   "execution_count": 116,
   "metadata": {
    "collapsed": false,
    "jupyter": {
     "outputs_hidden": false
    }
   },
   "outputs": [
    {
     "name": "stdout",
     "output_type": "stream",
     "text": [
      "There is/are 12 matches is rows 3, 24, 26, 29, 34, 38, 46, 66, 83, 88, 92, 99 for the year 1980\n"
     ]
    }
   ],
   "source": [
    "if column == \"Driver\":\n",
    "    print(findDriver(str(entry)))\n",
    "elif column == \"Nationality\":\n",
    "    print(findNationality(str(entry)))\n",
    "elif column == \"Race_Entries\":\n",
    "    print(findRaceEntries(int(entry)))\n",
    "elif column == \"Decade\":\n",
    "    print(findDecade(int(entry)))"
   ]
  },
  {
   "cell_type": "markdown",
   "source": [
    "Part 2"
   ],
   "metadata": {
    "collapsed": false
   }
  },
  {
   "cell_type": "code",
   "execution_count": 117,
   "outputs": [],
   "source": [
    "import pandas as pandas\n",
    "\n",
    "data = pandas.read_csv(\"cs421_hw2_duplicates_Stinefield_Johnston.csv\");"
   ],
   "metadata": {
    "collapsed": false
   }
  },
  {
   "cell_type": "code",
   "execution_count": 118,
   "outputs": [
    {
     "name": "stdout",
     "output_type": "stream",
     "text": [
      "row 9 and row 84 are identical with values Gino Bianco Brazil 4 1950\n",
      "row 17 and row 40 are identical with values Cliff Allison United Kingdom 18 1960\n",
      "row 42 and row 58 are identical with values Richard Attwood United Kingdom 17 1970\n"
     ]
    }
   ],
   "source": [
    "for x in range(0, data.Driver.size):\n",
    "    entrytocheck = data.values[x]\n",
    "    if x + 1 == data.Driver.size:\n",
    "        break\n",
    "    for y in range(x+1, data.Driver.size):\n",
    "        if str(entrytocheck) == str(data.values[y]):\n",
    "            entry = str(entrytocheck).replace(\"[\", \"\").replace(\"]\", \"\").replace(\"'\", \"\")\n",
    "            print(\"row \" + str(x) +\" and row \"+str(y)+\" are identical with values \" + entry)"
   ],
   "metadata": {
    "collapsed": false
   }
  },
  {
   "cell_type": "markdown",
   "source": [
    "Part 3"
   ],
   "metadata": {
    "collapsed": false
   }
  },
  {
   "cell_type": "code",
   "execution_count": 119,
   "outputs": [],
   "source": [
    "import pandas as pandas\n",
    "\n",
    "data = pandas.read_csv(\"cs421_hw2_missings_Stinefield_Johnston.csv\");"
   ],
   "metadata": {
    "collapsed": false
   }
  },
  {
   "cell_type": "code",
   "execution_count": 120,
   "outputs": [
    {
     "name": "stdout",
     "output_type": "stream",
     "text": [
      "Row 16 has missing values(s) Philippe Alliot France 116.0 nan\n",
      "Row 30 has missing values(s) nan Italy 1.0 1990.0\n",
      "Row 60 has missing values(s) Zsolt Baumgartner Hungary nan 2000.0\n",
      "Row 77 has missing values(s) Tony Bettenhausen nan 11.0 1960.0\n",
      "Row 93 has missing values(s) Menato Boffa Italy 1.0 nan\n"
     ]
    }
   ],
   "source": [
    "for x in range(0, data.Driver.size):\n",
    "    if pandas.isna(data.at[x, \"Driver\"]) or pandas.isna(data.at[x, \"Nationality\"]) or pandas.isna(data.at[x, \"Race_Entries\"]) or pandas.isna(data.at[x, \"Decade\"]):\n",
    "        entry = str(data.values[x]).replace(\"[\", \"\").replace(\"]\", \"\").replace(\"'\", \"\")\n",
    "        print(\"Row \" + str(x+1) + \" has missing values(s) \" + entry)"
   ],
   "metadata": {
    "collapsed": false
   }
  }
 ],
 "metadata": {
  "kernelspec": {
   "display_name": "Python 3 (ipykernel)",
   "language": "python",
   "name": "python3"
  },
  "language_info": {
   "codemirror_mode": {
    "name": "ipython",
    "version": 3
   },
   "file_extension": ".py",
   "mimetype": "text/x-python",
   "name": "python",
   "nbconvert_exporter": "python",
   "pygments_lexer": "ipython3",
   "version": "3.9.0"
  }
 },
 "nbformat": 4,
 "nbformat_minor": 4
}
