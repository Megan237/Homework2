{
 "cells": [
  {
   "cell_type": "code",
   "execution_count": 66,
   "metadata": {
    "collapsed": true
   },
   "outputs": [
    {
     "name": "stdout",
     "output_type": "stream",
     "text": [
      "                Driver     Nationality  Race_Entries  Decade\n",
      "0          Carlo Abate           Italy           3.0  1960.0\n",
      "1     George Abecassis  United Kingdom           2.0  1950.0\n",
      "2        Kenny Acheson  United Kingdom          10.0  1980.0\n",
      "3    Andrea de Adamich           Italy          36.0  1970.0\n",
      "4       Philippe Adams         Belgium           2.0  1990.0\n",
      "..                 ...             ...           ...     ...\n",
      "95          Jo Bonnier          Sweden         108.0  1960.0\n",
      "96      Roberto Bonomi       Argentina           1.0  1960.0\n",
      "97  Juan Manuel Bordeu       Argentina           1.0  1960.0\n",
      "98        Slim Borgudd          Sweden          15.0  1980.0\n",
      "99          Luki Botha    South Africa           1.0  1970.0\n",
      "\n",
      "[100 rows x 4 columns]\n"
     ]
    }
   ],
   "source": [
    "import pandas as pandas\n",
    "\n",
    "data = pandas.read_csv(\"cs421_hw2_missings_Stinefield_Johnston.csv\");\n",
    "print(data)"
   ]
  },
  {
   "cell_type": "code",
   "execution_count": 69,
   "outputs": [
    {
     "name": "stdout",
     "output_type": "stream",
     "text": [
      "Row 16 has missing values(s) Philippe Alliot France 116.0 nan\n",
      "Row 30 has missing values(s) nan Italy 1.0 1990.0\n",
      "Row 60 has missing values(s) Zsolt Baumgartner Hungary nan 2000.0\n",
      "Row 77 has missing values(s) Tony Bettenhausen nan 11.0 1960.0\n",
      "Row 93 has missing values(s) Menato Boffa Italy 1.0 nan\n"
     ]
    }
   ],
   "source": [
    "\n",
    "for x in range(0, data.Driver.size):\n",
    "    if pandas.isna(data.at[x, \"Driver\"]) or pandas.isna(data.at[x, \"Nationality\"]) or pandas.isna(data.at[x, \"Race_Entries\"]) or pandas.isna(data.at[x, \"Decade\"]):\n",
    "        entry = str(data.values[x]).replace(\"[\", \"\").replace(\"]\", \"\").replace(\"'\", \"\")\n",
    "        print(\"Row \" + str(x+1) + \" has missing values(s) \" + entry)\n"
   ],
   "metadata": {
    "collapsed": false
   }
  },
  {
   "cell_type": "code",
   "execution_count": 67,
   "outputs": [],
   "source": [],
   "metadata": {
    "collapsed": false
   }
  }
 ],
 "metadata": {
  "kernelspec": {
   "display_name": "Python 3",
   "language": "python",
   "name": "python3"
  },
  "language_info": {
   "codemirror_mode": {
    "name": "ipython",
    "version": 2
   },
   "file_extension": ".py",
   "mimetype": "text/x-python",
   "name": "python",
   "nbconvert_exporter": "python",
   "pygments_lexer": "ipython2",
   "version": "2.7.6"
  }
 },
 "nbformat": 4,
 "nbformat_minor": 0
}
