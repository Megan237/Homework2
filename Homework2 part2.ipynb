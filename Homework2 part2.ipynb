{
 "cells": [
  {
   "cell_type": "code",
   "execution_count": 35,
   "metadata": {
    "collapsed": true
   },
   "outputs": [
    {
     "name": "stdout",
     "output_type": "stream",
     "text": [
      "                 Driver     Nationality  Race_Entries  Decade\n",
      "0           Carlo Abate           Italy             3    1960\n",
      "1      George Abecassis  United Kingdom             2    1950\n",
      "2         Kenny Acheson  United Kingdom            10    1980\n",
      "3     Andrea de Adamich           Italy            36    1970\n",
      "4        Philippe Adams         Belgium             2    1990\n",
      "..                  ...             ...           ...     ...\n",
      "98           Jo Bonnier          Sweden           108    1960\n",
      "99       Roberto Bonomi       Argentina             1    1960\n",
      "100  Juan Manuel Bordeu       Argentina             1    1960\n",
      "101        Slim Borgudd          Sweden            15    1980\n",
      "102          Luki Botha    South Africa             1    1970\n",
      "\n",
      "[103 rows x 4 columns]\n",
      "103\n"
     ]
    }
   ],
   "source": [
    "import pandas as pandas\n",
    "\n",
    "data = pandas.read_csv(\"cs421_hw2_duplicates_Stinefield_Johnston.csv\");\n",
    "print(data)"
   ]
  },
  {
   "cell_type": "code",
   "execution_count": 39,
   "outputs": [
    {
     "name": "stdout",
     "output_type": "stream",
     "text": [
      "row 9 and row 84 are identical with values Gino Bianco Brazil 4 1950\n",
      "row 17 and row 40 are identical with values Cliff Allison United Kingdom 18 1960\n",
      "row 42 and row 58 are identical with values Richard Attwood United Kingdom 17 1970\n"
     ]
    }
   ],
   "source": [
    "for x in range(0, data.Driver.size):\n",
    "    entrytocheck = data.values[x]\n",
    "    if x + 1 == data.Driver.size:\n",
    "        break\n",
    "    for y in range(x+1, data.Driver.size):\n",
    "        if str(entrytocheck) == str(data.values[y]):\n",
    "            entry = str(entrytocheck).replace(\"[\", \"\").replace(\"]\", \"\").replace(\"'\", \"\")\n",
    "            print(\"row \" + str(x) +\" and row \"+str(y)+\" are identical with values \" + entry)"
   ],
   "metadata": {
    "collapsed": false
   }
  },
  {
   "cell_type": "code",
   "execution_count": 19,
   "outputs": [],
   "source": [],
   "metadata": {
    "collapsed": false
   }
  }
 ],
 "metadata": {
  "kernelspec": {
   "display_name": "Python 3",
   "language": "python",
   "name": "python3"
  },
  "language_info": {
   "codemirror_mode": {
    "name": "ipython",
    "version": 2
   },
   "file_extension": ".py",
   "mimetype": "text/x-python",
   "name": "python",
   "nbconvert_exporter": "python",
   "pygments_lexer": "ipython2",
   "version": "2.7.6"
  }
 },
 "nbformat": 4,
 "nbformat_minor": 0
}
